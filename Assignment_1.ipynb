{
 "cells": [
  {
   "cell_type": "code",
   "execution_count": null,
   "metadata": {},
   "outputs": [],
   "source": [
    "#Assignement1 Problem statment 1 \n",
    "'''1. Write a program which will find all such numbers which are divisible by 7 but are not a\n",
    "multiple of 5, between 2000 and 3200 (both included). The numbers obtained should be printed\n",
    "in a comma-separated sequence on a single line.'''\n",
    "\n",
    "def findNo():\n",
    "    mylist = []\n",
    "  \n",
    "    for i in range(2000, 3200):\n",
    "        if i%5 != 0 and i%7 == 0:\n",
    "            mylist.append(i)  \n",
    "         \n",
    "    return mylist\n",
    "\n",
    "findNo()"
   ]
  },
  {
   "cell_type": "code",
   "execution_count": null,
   "metadata": {},
   "outputs": [],
   "source": [
    "#Assignement1 Problem statment 2\n",
    "'''Write a Python program to find the volume of a sphere with diameter 12 cm'''\n",
    "def volumeOfSphere(diameter):\n",
    "    r = int(diameter)/2\n",
    "    volume = (4/3) * 3.14 * (r * r * r)\n",
    "    return volume\n",
    "\t\n",
    "    \n",
    "d = input(\"Enter the diameter\");   \n",
    "volume = volumeOfSphere(d)\n",
    "print(\"Volume of speher is \"+ str(volume))"
   ]
  },
  {
   "cell_type": "code",
   "execution_count": null,
   "metadata": {},
   "outputs": [],
   "source": [
    "#Assignement1 Problem statment 3\n",
    "'''. Write a Python program to accept the user's first and last name and then getting them\n",
    "printed in the the reverse order with a space between first name and last name.'''\n",
    "\n",
    "def reverseName(fname,lname):\n",
    "    reversedstring=''.join(reversed( lname+ ' '+fname))\n",
    "    return reversedstring\n",
    "\n",
    "firstName = input(\"Enter first name\")\n",
    "lastName = input(\"Enter last name\")\n",
    "reverseName(firstName,lastName)"
   ]
  }
 ],
 "metadata": {
  "kernelspec": {
   "display_name": "Python 3",
   "language": "python",
   "name": "python3"
  },
  "language_info": {
   "codemirror_mode": {
    "name": "ipython",
    "version": 3
   },
   "file_extension": ".py",
   "mimetype": "text/x-python",
   "name": "python",
   "nbconvert_exporter": "python",
   "pygments_lexer": "ipython3",
   "version": "3.8.3"
  }
 },
 "nbformat": 4,
 "nbformat_minor": 4
}
